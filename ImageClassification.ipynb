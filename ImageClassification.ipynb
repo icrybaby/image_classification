{
 "cells": [
  {
   "cell_type": "code",
   "execution_count": 7,
   "id": "abe9082c-2b75-4b29-8104-abf4d5fb1f8c",
   "metadata": {},
   "outputs": [],
   "source": [
    "import os\n",
    "\n",
    "import tensorflow as tf\n",
    "from tensorflow.keras import layers\n",
    "from tensorflow.keras.applications.vgg16 import VGG16\n",
    "from tensorflow.keras.preprocessing.image import ImageDataGenerator\n",
    "from tensorflow.keras.applications.inception_v3 import InceptionV3\n",
    "from tensorflow.keras.applications import ResNet50\n",
    "from tensorflow.python.keras.models import Sequential\n",
    "from tensorflow.keras.applications import EfficientNetB0"
   ]
  },
  {
   "cell_type": "code",
   "execution_count": 8,
   "id": "78d0c524-c1c9-4aad-bbc6-8dadc6579de1",
   "metadata": {},
   "outputs": [],
   "source": [
    "base_dir = r\"D:\\user's\\work related\\to deepsight ai\"\n",
    "learning_rate = 0.001\n",
    "epochs = 20\n",
    "epoch_steps = 50"
   ]
  },
  {
   "cell_type": "code",
   "execution_count": 9,
   "id": "32fe593e-9291-4eac-8672-aa832e3a538f",
   "metadata": {},
   "outputs": [],
   "source": [
    "train_dir = os.path.join(base_dir, 'Training')\n",
    "validation_dir = os.path.join(base_dir, 'Validation')\n",
    "test_dir = os.path.join(base_dir, 'Testing')"
   ]
  },
  {
   "cell_type": "code",
   "execution_count": 10,
   "id": "44131186-0592-44e2-8396-0b8852c2e69c",
   "metadata": {},
   "outputs": [
    {
     "name": "stdout",
     "output_type": "stream",
     "text": [
      "Found 1440 images belonging to 6 classes.\n",
      "Found 480 images belonging to 6 classes.\n",
      "Found 480 images belonging to 1 classes.\n"
     ]
    }
   ],
   "source": [
    "train_datagenerator = ImageDataGenerator(rescale=1. / 255., rotation_range=40, width_shift_range=0.2,\n",
    "                                         height_shift_range=0.2, shear_range=0.2, zoom_range=0.2, horizontal_flip=True)\n",
    "validation_datagenerator = ImageDataGenerator(rescale=1. / 255.)\n",
    "train_generator = train_datagenerator.flow_from_directory(train_dir, batch_size=20, class_mode='categorical', color_mode='rgb', shuffle=True,\n",
    "                                                          target_size=(256, 256))\n",
    "validation_generator = validation_datagenerator.flow_from_directory(validation_dir, batch_size=20, class_mode='categorical', color_mode='rgb', shuffle=True,\n",
    "                                                                    target_size=(256, 256))\n",
    "\n",
    "test_datagenerator = ImageDataGenerator(rescale=1./255.)\n",
    "test_generator = test_datagenerator.flow_from_directory(test_dir, target_size=(256, 256), batch_size=1,class_mode=None, shuffle=False)"
   ]
  },
  {
   "cell_type": "code",
   "execution_count": null,
   "id": "8b5aa6b1-77f5-4bb0-8998-677bc85f2f59",
   "metadata": {},
   "outputs": [
    {
     "name": "stdout",
     "output_type": "stream",
     "text": [
      "Epoch 1/20\n",
      "50/50 [==============================] - 141s 3s/step - loss: 2.3560 - acc: 0.2280 - val_loss: 1.9850 - val_acc: 0.2896\n",
      "Epoch 2/20\n",
      "50/50 [==============================] - 133s 3s/step - loss: 1.7542 - acc: 0.3250 - val_loss: 1.5631 - val_acc: 0.3896\n",
      "Epoch 3/20\n",
      "50/50 [==============================] - 132s 3s/step - loss: 1.6505 - acc: 0.3360 - val_loss: 1.4874 - val_acc: 0.4354\n",
      "Epoch 4/20\n",
      "50/50 [==============================] - 134s 3s/step - loss: 1.5459 - acc: 0.3820 - val_loss: 1.4643 - val_acc: 0.4167\n",
      "Epoch 5/20\n",
      "50/50 [==============================] - 132s 3s/step - loss: 1.4787 - acc: 0.4270 - val_loss: 1.4173 - val_acc: 0.4396\n",
      "Epoch 6/20\n",
      "50/50 [==============================] - 133s 3s/step - loss: 1.4683 - acc: 0.4150 - val_loss: 1.3529 - val_acc: 0.4729\n",
      "Epoch 7/20\n",
      "50/50 [==============================] - 133s 3s/step - loss: 1.4645 - acc: 0.4190 - val_loss: 1.3453 - val_acc: 0.4812\n",
      "Epoch 8/20\n",
      "50/50 [==============================] - 133s 3s/step - loss: 1.3504 - acc: 0.5020 - val_loss: 1.7300 - val_acc: 0.4146\n",
      "Epoch 9/20\n",
      "50/50 [==============================] - 133s 3s/step - loss: 1.3924 - acc: 0.4530 - val_loss: 1.4330 - val_acc: 0.4521\n",
      "Epoch 10/20\n",
      "50/50 [==============================] - 132s 3s/step - loss: 1.3662 - acc: 0.4680 - val_loss: 1.3766 - val_acc: 0.4812\n",
      "Epoch 11/20\n",
      "50/50 [==============================] - 133s 3s/step - loss: 1.3506 - acc: 0.4740 - val_loss: 1.6160 - val_acc: 0.3917\n",
      "Epoch 12/20\n",
      "50/50 [==============================] - 132s 3s/step - loss: 1.3044 - acc: 0.5020 - val_loss: 1.3514 - val_acc: 0.4875\n",
      "Epoch 13/20\n",
      "50/50 [==============================] - 133s 3s/step - loss: 1.3032 - acc: 0.5020 - val_loss: 1.3964 - val_acc: 0.4625\n",
      "Epoch 14/20\n",
      "50/50 [==============================] - 133s 3s/step - loss: 1.2881 - acc: 0.5210 - val_loss: 1.3567 - val_acc: 0.4875\n",
      "Epoch 15/20\n",
      "27/50 [===============>..............] - ETA: 41s - loss: 1.2720 - acc: 0.5019"
     ]
    }
   ],
   "source": [
    "base_vgg16model = VGG16(input_shape=(256, 256, 3), include_top=False, weights='imagenet', pooling='max')\n",
    "\n",
    "for layer in base_vgg16model.layers:\n",
    "    layer.trainable = False\n",
    "\n",
    "output_layer = layers.Flatten()(base_vgg16model.output)\n",
    "output_layer = layers.Dense(1024, activation='relu')(output_layer)\n",
    "output_layer = layers.Dropout(0.2)(output_layer)\n",
    "output_layer = layers.Dense(6, activation='softmax')(output_layer)\n",
    "\n",
    "vgg16_model = tf.keras.models.Model(base_vgg16model.input, output_layer)\n",
    "vgg16_model.compile(optimizer=tf.keras.optimizers.RMSprop(lr=learning_rate), metrics=['acc'],\n",
    "                    loss=tf.keras.losses.categorical_crossentropy)\n",
    "\n",
    "vgghist = vgg16_model.fit(train_generator, validation_data=validation_generator, steps_per_epoch=epoch_steps, epochs=epochs)"
   ]
  },
  {
   "cell_type": "code",
   "execution_count": null,
   "id": "89873775-27a6-4e45-bc8c-7dc2efde875d",
   "metadata": {},
   "outputs": [],
   "source": [
    "base_inceptionmodel = InceptionV3(input_shape = (256, 256, 3), include_top=False, weights='imagenet', pooling='max')\n",
    "\n",
    "for layer in base_inceptionmodel.layers:\n",
    "    layer.trainable = False\n",
    "\n",
    "output_layer = layers.Flatten()(base_inceptionmodel.output)\n",
    "output_layer = layers.Dense(1024, activation='relu')(output_layer)\n",
    "output_layer = layers.Dropout(0.2)(output_layer)\n",
    "output_layer = layers.Dense(6, activation='softmax')(output_layer)\n",
    "\n",
    "inception_model = tf.keras.models.Model(base_inceptionmodel.input, output_layer)\n",
    "inception_model.compile(optimizer=tf.keras.optimizers.RMSprop(lr=learning_rate), metrics=['acc'],\n",
    "                    loss=tf.keras.losses.categorical_crossentropy)\n",
    "\n",
    "inceptionhist = inception_model.fit(train_generator, validation_data=validation_generator, steps_per_epoch=epoch_steps, epochs=epochs)"
   ]
  },
  {
   "cell_type": "code",
   "execution_count": null,
   "id": "f6546c8b-cdaa-4cd8-b4d3-4016a8357bab",
   "metadata": {},
   "outputs": [],
   "source": [
    "base_resnetmodel = ResNet50(input_shape=(256, 256,3), include_top=False, weights=\"imagenet\", pooling='max')\n",
    "\n",
    "for layer in base_resnetmodel.layers:\n",
    "    layer.trainable = False\n",
    "    \n",
    "resnet_model = Sequential()\n",
    "resnet_model.add(base_resnetmodel)\n",
    "resnet_model.add(layers.Dense(6, activation='softmax'))\n",
    "resnet_model.compile(optimizer=tf.keras.optimizers.RMSprop(lr=learning_rate), metrics=['acc'],\n",
    "                    loss=tf.keras.losses.categorical_crossentropy)\n",
    "\n",
    "resnethist = resnet_model.fit(train_generator, validation_data=validation_generator, steps_per_epoch=epoch_steps, epochs=epochs)"
   ]
  },
  {
   "cell_type": "code",
   "execution_count": null,
   "id": "7946734e-011e-4474-8ed4-57cd52650c86",
   "metadata": {},
   "outputs": [],
   "source": [
    "base_efficientmodel = EfficientNetB0(input_shape=(256, 256, 3), include_top=False, weights='imagenet', pooling='max')\n",
    "\n",
    "for layer in base_efficientmodel.layers:\n",
    "    layer.trainable = False\n",
    "    \n",
    "output_layer = base_efficientmodel.output\n",
    "output_layer = layers.Flatten()(output_layer)\n",
    "output_layer = layers.Dense(1024, activation=\"relu\")(output_layer)\n",
    "output_layer = layers.Dropout(0.2)(output_layer)\n",
    "output_layer = layers.Dense(6, activation=\"softmax\")(output_layer)\n",
    "\n",
    "efficient_model = tf.keras.models.Model(base_efficientmodel.input, output_layer)\n",
    "efficient_model.compile(optimizer=tf.keras.optimizers.RMSprop(lr=learning_rate), metrics=['acc'],\n",
    "                    loss=tf.keras.losses.categorical_crossentropy)\n",
    "\n",
    "efficienthist = efficient_model.fit(train_generator, validation_data=validation_generator, steps_per_epoch=epoch_steps, epochs=epochs)"
   ]
  },
  {
   "cell_type": "code",
   "execution_count": null,
   "id": "4184e07d-a6b4-4ae3-928f-9e4576755559",
   "metadata": {},
   "outputs": [],
   "source": [
    "pred = inception_model.predict(test_generator)"
   ]
  },
  {
   "cell_type": "code",
   "execution_count": null,
   "id": "6e8a4664-10f6-4025-aa0c-a696da9aa5c7",
   "metadata": {},
   "outputs": [],
   "source": []
  }
 ],
 "metadata": {
  "kernelspec": {
   "display_name": "Python 3 (ipykernel)",
   "language": "python",
   "name": "python3"
  },
  "language_info": {
   "codemirror_mode": {
    "name": "ipython",
    "version": 3
   },
   "file_extension": ".py",
   "mimetype": "text/x-python",
   "name": "python",
   "nbconvert_exporter": "python",
   "pygments_lexer": "ipython3",
   "version": "3.9.5"
  }
 },
 "nbformat": 4,
 "nbformat_minor": 5
}
