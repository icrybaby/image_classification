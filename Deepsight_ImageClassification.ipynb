{
 "cells": [
  {
   "cell_type": "code",
   "execution_count": null,
   "id": "abe9082c-2b75-4b29-8104-abf4d5fb1f8c",
   "metadata": {},
   "outputs": [],
   "source": [
    "import os\n",
    "\n",
    "import pandas\n",
    "import numpy\n",
    "from keras_preprocessing import image\n",
    "import tensorflow as tf\n",
    "from tensorflow.keras import layers\n",
    "from tensorflow.keras.applications.vgg16 import VGG16\n",
    "from tensorflow.keras.preprocessing.image import ImageDataGenerator\n",
    "from tensorflow.keras.applications.inception_v3 import InceptionV3\n",
    "from tensorflow.keras.applications import ResNet50\n",
    "from tensorflow.python.keras.models import Sequential\n",
    "from tensorflow.keras.applications import EfficientNetB0"
   ]
  },
  {
   "cell_type": "code",
   "execution_count": null,
   "id": "78d0c524-c1c9-4aad-bbc6-8dadc6579de1",
   "metadata": {},
   "outputs": [],
   "source": [
    "base_dir = r\"D:\\user's\\work related\\to deepsight ai\"\n",
    "learning_rate = 0.001\n",
    "epochs = 20\n",
    "epoch_steps = 50"
   ]
  },
  {
   "cell_type": "code",
   "execution_count": null,
   "id": "b2e593c8-afa7-4c7a-8ad4-f3b688aa4a61",
   "metadata": {},
   "outputs": [],
   "source": [
    "# [project folder] \"base directory\"/..\n",
    "#     [subfolder] Training/..\n",
    "#         [subfolder] class_0/..\n",
    "#         [subfolder] class_1/..\n",
    "#         [subfolder] ..\n",
    "#     [subfolder] Testing/..\n",
    "#         [subfolder] Testing/..\n",
    "#     [subfolder] Validation/..\n",
    "#         [subfolder] class_0/..\n",
    "#         [subfolder] class_1/..\n",
    "#         [subfolder] .."
   ]
  },
  {
   "cell_type": "code",
   "execution_count": null,
   "id": "32fe593e-9291-4eac-8672-aa832e3a538f",
   "metadata": {},
   "outputs": [],
   "source": [
    "train_dir = os.path.join(base_dir, 'Training')\n",
    "validation_dir = os.path.join(base_dir, 'Validation')\n",
    "test_dir = os.path.join(base_dir, 'Testing')"
   ]
  },
  {
   "cell_type": "code",
   "execution_count": null,
   "id": "44131186-0592-44e2-8396-0b8852c2e69c",
   "metadata": {},
   "outputs": [],
   "source": [
    "train_datagenerator = ImageDataGenerator(rescale=1. / 255., rotation_range=40, width_shift_range=0.2,\n",
    "                                         height_shift_range=0.2, shear_range=0.2, zoom_range=0.2, horizontal_flip=True)\n",
    "validation_datagenerator = ImageDataGenerator(rescale=1. / 255.)\n",
    "train_generator = train_datagenerator.flow_from_directory(train_dir, batch_size=20, class_mode='categorical', color_mode='rgb', shuffle=True,\n",
    "                                                          target_size=(256, 256))\n",
    "validation_generator = validation_datagenerator.flow_from_directory(validation_dir, batch_size=20, class_mode='categorical', color_mode='rgb', shuffle=True,\n",
    "                                                                    target_size=(256, 256))\n",
    "\n",
    "test_datagenerator = ImageDataGenerator(rescale=1./255.)\n",
    "test_generator = test_datagenerator.flow_from_directory(test_dir, target_size=(256, 256), batch_size=1,class_mode=None, shuffle=False)"
   ]
  },
  {
   "cell_type": "code",
   "execution_count": null,
   "id": "8b5aa6b1-77f5-4bb0-8998-677bc85f2f59",
   "metadata": {},
   "outputs": [],
   "source": [
    "base_vgg16model = VGG16(input_shape=(256, 256, 3), include_top=False, weights='imagenet', pooling='max')\n",
    "\n",
    "for layer in base_vgg16model.layers:\n",
    "    layer.trainable = False\n",
    "\n",
    "output_layer = layers.Flatten()(base_vgg16model.output)\n",
    "output_layer = layers.Dense(1024, activation='relu')(output_layer)\n",
    "output_layer = layers.Dropout(0.2)(output_layer)\n",
    "output_layer = layers.Dense(6, activation='softmax')(output_layer)\n",
    "\n",
    "vgg16_model = tf.keras.models.Model(base_vgg16model.input, output_layer)\n",
    "vgg16_model.compile(optimizer=tf.keras.optimizers.RMSprop(lr=learning_rate), metrics=['acc'],\n",
    "                    loss=tf.keras.losses.categorical_crossentropy)\n",
    "\n",
    "vgghist = vgg16_model.fit(train_generator, validation_data=validation_generator, steps_per_epoch=epoch_steps, epochs=epochs)"
   ]
  },
  {
   "cell_type": "code",
   "execution_count": null,
   "id": "89873775-27a6-4e45-bc8c-7dc2efde875d",
   "metadata": {},
   "outputs": [],
   "source": [
    "base_inceptionmodel = InceptionV3(input_shape = (256, 256, 3), include_top=False, weights='imagenet', pooling='max')\n",
    "\n",
    "for layer in base_inceptionmodel.layers:\n",
    "    layer.trainable = False\n",
    "\n",
    "output_layer = layers.Flatten()(base_inceptionmodel.output)\n",
    "output_layer = layers.Dense(1024, activation='relu')(output_layer)\n",
    "output_layer = layers.Dropout(0.2)(output_layer)\n",
    "output_layer = layers.Dense(6, activation='softmax')(output_layer)\n",
    "\n",
    "inception_model = tf.keras.models.Model(base_inceptionmodel.input, output_layer)\n",
    "inception_model.compile(optimizer=tf.keras.optimizers.RMSprop(lr=learning_rate), metrics=['acc'],\n",
    "                    loss=tf.keras.losses.categorical_crossentropy)\n",
    "\n",
    "inceptionhist = inception_model.fit(train_generator, validation_data=validation_generator, steps_per_epoch=epoch_steps, epochs=epochs)"
   ]
  },
  {
   "cell_type": "code",
   "execution_count": null,
   "id": "f6546c8b-cdaa-4cd8-b4d3-4016a8357bab",
   "metadata": {},
   "outputs": [],
   "source": [
    "base_resnetmodel = ResNet50(input_shape=(256, 256,3), include_top=False, weights=\"imagenet\", pooling='max')\n",
    "\n",
    "for layer in base_resnetmodel.layers:\n",
    "    layer.trainable = False\n",
    "    \n",
    "resnet_model = Sequential()\n",
    "resnet_model.add(base_resnetmodel)\n",
    "resnet_model.add(layers.Dense(6, activation='softmax'))\n",
    "resnet_model.compile(optimizer=tf.keras.optimizers.RMSprop(lr=learning_rate), metrics=['acc'],\n",
    "                    loss=tf.keras.losses.categorical_crossentropy)\n",
    "\n",
    "resnethist = resnet_model.fit(train_generator, validation_data=validation_generator, steps_per_epoch=epoch_steps, epochs=epochs)"
   ]
  },
  {
   "cell_type": "code",
   "execution_count": null,
   "id": "7946734e-011e-4474-8ed4-57cd52650c86",
   "metadata": {},
   "outputs": [],
   "source": [
    "base_efficientmodel = EfficientNetB0(input_shape=(256, 256, 3), include_top=False, weights='imagenet', pooling='max')\n",
    "\n",
    "for layer in base_efficientmodel.layers:\n",
    "    layer.trainable = False\n",
    "    \n",
    "output_layer = base_efficientmodel.output\n",
    "output_layer = layers.Flatten()(output_layer)\n",
    "output_layer = layers.Dense(1024, activation=\"relu\")(output_layer)\n",
    "output_layer = layers.Dropout(0.2)(output_layer)\n",
    "output_layer = layers.Dense(6, activation=\"softmax\")(output_layer)\n",
    "\n",
    "efficient_model = tf.keras.models.Model(base_efficientmodel.input, output_layer)\n",
    "efficient_model.compile(optimizer=tf.keras.optimizers.RMSprop(lr=learning_rate), metrics=['acc'],\n",
    "                    loss=tf.keras.losses.categorical_crossentropy)\n",
    "\n",
    "efficienthist = efficient_model.fit(train_generator, validation_data=validation_generator, steps_per_epoch=epoch_steps, epochs=epochs)"
   ]
  },
  {
   "cell_type": "code",
   "execution_count": null,
   "id": "6e8a4664-10f6-4025-aa0c-a696da9aa5c7",
   "metadata": {},
   "outputs": [],
   "source": [
    "classes = list(train_generator.class_indices.keys())"
   ]
  },
  {
   "cell_type": "code",
   "execution_count": null,
   "id": "6566fceb-2b04-4ce1-a0a4-f9640d9d704d",
   "metadata": {},
   "outputs": [],
   "source": [
    "testset = pandas.read_csv(base_dir + '/test_set.csv')\n",
    "\n",
    "for row in range(len(testset)):\n",
    "    filename = testset.iloc[row, 0]\n",
    "    test_image = image.load_img(test_dir + \"/\" + filename, target_size=(256, 256))\n",
    "    test_image = image.img_to_array(test_image)\n",
    "    test_image = numpy.expand_dims(test_image, axis=0)\n",
    "    # chosen InceptionV3 model as it has high accuracy\n",
    "    pred = inception_model.predict(test_image)\n",
    "    result = pred.round()[0]\n",
    "    class_index = numpy.argmax(result, axis=0)\n",
    "    testset.iloc[row, 1] = classes[class_index]"
   ]
  },
  {
   "cell_type": "code",
   "execution_count": null,
   "id": "36ba180f-f49f-4e43-9e95-15da4eb19954",
   "metadata": {},
   "outputs": [],
   "source": [
    "testset.to_csv('test_set.csv', index=False)"
   ]
  },
  {
   "cell_type": "code",
   "execution_count": null,
   "id": "4106a5a7-9d26-4c87-a3e4-b7a99796e3b7",
   "metadata": {},
   "outputs": [],
   "source": []
  }
 ],
 "metadata": {
  "kernelspec": {
   "display_name": "Python 3 (ipykernel)",
   "language": "python",
   "name": "python3"
  },
  "language_info": {
   "codemirror_mode": {
    "name": "ipython",
    "version": 3
   },
   "file_extension": ".py",
   "mimetype": "text/x-python",
   "name": "python",
   "nbconvert_exporter": "python",
   "pygments_lexer": "ipython3",
   "version": "3.9.5"
  }
 },
 "nbformat": 4,
 "nbformat_minor": 5
}
